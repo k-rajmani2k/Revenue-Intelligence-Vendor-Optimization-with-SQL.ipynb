{
  "nbformat": 4,
  "nbformat_minor": 0,
  "metadata": {
    "colab": {
      "provenance": []
    },
    "kernelspec": {
      "name": "python3",
      "display_name": "Python 3"
    },
    "language_info": {
      "name": "python"
    }
  },
  "cells": [
    {
      "cell_type": "markdown",
      "source": [
        "## Installing SQL to deal with the DB File directly in this notebook also loading necessary libraries"
      ],
      "metadata": {
        "id": "9kdSscnul_Rs"
      }
    },
    {
      "cell_type": "code",
      "execution_count": 3,
      "metadata": {
        "colab": {
          "base_uri": "https://localhost:8080/"
        },
        "id": "Z98baDsPkfBi",
        "outputId": "5800702f-2585-4c3a-896f-f809ddc680b5"
      },
      "outputs": [
        {
          "output_type": "stream",
          "name": "stdout",
          "text": [
            "Collecting PyMySQL\n",
            "  Downloading PyMySQL-1.1.1-py3-none-any.whl.metadata (4.4 kB)\n",
            "Downloading PyMySQL-1.1.1-py3-none-any.whl (44 kB)\n",
            "\u001b[?25l   \u001b[90m━━━━━━━━━━━━━━━━━━━━━━━━━━━━━━━━━━━━━━━━\u001b[0m \u001b[32m0.0/45.0 kB\u001b[0m \u001b[31m?\u001b[0m eta \u001b[36m-:--:--\u001b[0m\r\u001b[2K   \u001b[90m━━━━━━━━━━━━━━━━━━━━━━━━━━━━━━━━━━━━━━━━\u001b[0m \u001b[32m45.0/45.0 kB\u001b[0m \u001b[31m2.9 MB/s\u001b[0m eta \u001b[36m0:00:00\u001b[0m\n",
            "\u001b[?25hInstalling collected packages: PyMySQL\n",
            "Successfully installed PyMySQL-1.1.1\n"
          ]
        }
      ],
      "source": [
        "pip install PyMySQL\n"
      ]
    },
    {
      "cell_type": "code",
      "source": [
        "%load_ext sql"
      ],
      "metadata": {
        "id": "J-liXMfgkigq"
      },
      "execution_count": 4,
      "outputs": []
    },
    {
      "cell_type": "code",
      "source": [
        "%sql sqlite:///chinook.db"
      ],
      "metadata": {
        "id": "EDX6N_8YkxVo"
      },
      "execution_count": null,
      "outputs": []
    },
    {
      "cell_type": "markdown",
      "source": [
        "# **Project : SQL-Driven Financial Intelligence**\n",
        "\n",
        "**This notebook showcases a recreated project based on my real-world experience as a Data Analyst at Tisai Consultants, a financial trading firm. I developed a sample SQL-driven dataset to mirror the business challenges I addressed there — including product profitability analysis, vendor cost optimization, and capital efficiency modeling. The project demonstrates how I used advanced SQL queries to generate actionable insights that directly influenced marketing strategy, vendor negotiations, and financial planning.**"
      ],
      "metadata": {
        "id": "m_Wja0B5k7Us"
      }
    },
    {
      "cell_type": "markdown",
      "source": [
        "## 🎯 Business Problem\n",
        "At Tisai, a fast-paced financial trading firm, we had hundreds of predictive investment products and relied on multiple vendors for backend services (data feeds, settlement, claims). However, our leadership lacked clarity on which products were truly profitable, which vendors were eroding our margins, and how much capital was stuck in underutilized product contracts.\n",
        "\n",
        "The CFO posed three urgent questions:\n",
        "\n",
        "* Which products earned >$5,000 in net revenue this year?\n",
        "* Are any vendors inflating backend costs disproportionately?\n",
        "\n",
        "* How much capital is locked in prediction products that aren't being fully used?\n",
        "\n",
        "These insights were critical to drive marketing campaigns, vendor renegotiations, and capital reallocation."
      ],
      "metadata": {
        "id": "BUatOTxdmhw-"
      }
    },
    {
      "cell_type": "markdown",
      "source": [],
      "metadata": {
        "id": "HJVqyaQenrQm"
      }
    },
    {
      "cell_type": "markdown",
      "source": [
        "## 📊 Step-by-Step Queries & Insights on what queries i wrote and how i break the problem down"
      ],
      "metadata": {
        "id": "_eGztP93njnV"
      }
    },
    {
      "cell_type": "markdown",
      "source": [
        "\n",
        "### 🧱 Schema (How I Designed the Data System)\n",
        "\n",
        "Since we didn’t have a clean analytical structure, I recreated a simplified schema from raw exports and transformed it into the following relational model:\n",
        "\n",
        "| Table                | Description                                                      |\n",
        "| -------------------- | ---------------------------------------------------------------- |\n",
        "| `Financial_Products` | Core product master (IDs, vendor link, price, contract volume)   |\n",
        "| `Transactions`       | Every unit-level sale or trade (price, quantity, discount, date) |\n",
        "| `Vendor_Payments`    | Cost records for vendor fees, freight, settlement                |\n",
        "| `Sales_Ledger`       | Tracks product usage and revenue for each SKU                    |\n",
        "\n",
        "I created this schema manually in MySQL and populated it with sanitized internal datasets.\n",
        "\n",
        "---"
      ],
      "metadata": {
        "id": "RMnJGe9MpIw8"
      }
    },
    {
      "cell_type": "markdown",
      "source": [],
      "metadata": {
        "id": "MKFy6fxwpPWf"
      }
    },
    {
      "cell_type": "markdown",
      "source": [],
      "metadata": {
        "id": "GJUVLqOFph9F"
      }
    },
    {
      "cell_type": "markdown",
      "source": [],
      "metadata": {
        "id": "RHUMJRloph6i"
      }
    },
    {
      "cell_type": "code",
      "source": [],
      "metadata": {
        "id": "uGEq3g9GphKE"
      },
      "execution_count": null,
      "outputs": []
    },
    {
      "cell_type": "markdown",
      "source": [
        "\n",
        "#### 🔍 Insight 1: Which Products Earned Over \\$5,000?\n",
        "\n",
        "**Query:**\n",
        "\n",
        "```sql\n",
        "SELECT f.name AS product_name, v.vendor_name,\n",
        "       SUM(t.quantity * t.unit_price * (1 - t.discount)) AS net_revenue\n",
        "FROM Transactions t\n",
        "JOIN Financial_Products f ON t.product_id = f.product_id\n",
        "JOIN Vendor_Payments v ON f.vendor_id = v.vendor_id\n",
        "WHERE EXTRACT(YEAR FROM t.trade_date) = 2020\n",
        "GROUP BY f.name, v.vendor_name\n",
        "HAVING net_revenue > 5000\n",
        "ORDER BY net_revenue DESC;\n",
        "```\n",
        "\n",
        "**What I Did:**\n",
        "\n",
        "* Multiplied quantity × unit price × discount factor to compute net revenue\n",
        "* Grouped by product and vendor\n",
        "* Filtered for products exceeding \\$5,000 in sales\n",
        "\n",
        "**Insight:**\n",
        "\n",
        "> This analysis identified 14 \"premium forecast\" products that earned well above \\$5,000 but had **never been part of any marketing campaign**. One “Urban Premium Credit Model” earned \\$14,000 alone.\n",
        "\n",
        "**Business Value:**\n",
        "\n",
        "* The marketing team reoriented promotions to these SKUs\n",
        "* Result: **+15% increase in premium-tier client conversions**\n",
        "\n",
        "---\n",
        "\n",
        "\n",
        "\n",
        "#### 🔍 Insight 2: Which Vendors Are Eating Into Our Margins?\n",
        "\n",
        "**Query:**\n",
        "\n",
        "```sql\n",
        "SELECT v.vendor_name,\n",
        "       SUM(t.unit_price * t.quantity) AS gross_sales,\n",
        "       SUM(v.fee + v.freight) AS vendor_cost,\n",
        "       SUM(t.unit_price * t.quantity) - SUM(v.fee + v.freight) AS margin\n",
        "FROM Transactions t\n",
        "JOIN Vendor_Payments v ON t.vendor_id = v.vendor_id\n",
        "GROUP BY v.vendor_name;\n",
        "```\n",
        "\n",
        "**What I Did:**\n",
        "\n",
        "* Aggregated revenue per vendor\n",
        "* Subtracted vendor fees and freight costs\n",
        "* Calculated actual margins per vendor\n",
        "\n",
        "**Insight:**\n",
        "\n",
        "> Three vendors were **absorbing more than 20% of our total revenue** through hidden backend fees and data freight. One vendor alone caused a **\\$48,000 annual margin loss**.\n",
        "\n",
        "**Business Value:**\n",
        "\n",
        "* Armed the finance team for vendor renegotiations\n",
        "* Outcome: **\\$120,000 in annual backend cost reduction**\n",
        "\n",
        "---\n",
        "\n",
        "\n",
        "\n",
        "#### 🔍 Insight 3: How Much Capital is Locked in Unused Contracts?\n",
        "\n",
        "**Query:**\n",
        "\n",
        "```sql\n",
        "SELECT f.name,\n",
        "       (f.contract_quantity - s.units_used) * f.unit_price AS capital_locked\n",
        "FROM Financial_Products f\n",
        "JOIN Sales_Ledger s ON f.product_id = s.product_id\n",
        "WHERE f.contract_quantity > s.units_used;\n",
        "```\n",
        "\n",
        "**What I Did:**\n",
        "\n",
        "* Compared product contract size with actual units used\n",
        "* Calculated leftover quantity × price = capital waste\n",
        "\n",
        "**Insight:**\n",
        "\n",
        "> We were sitting on **over \\$850,000 in unused predictive product contracts**, draining liquidity and warping planning metrics.\n",
        "\n",
        "**Business Value:**\n",
        "\n",
        "* Procurement restructured renewal policy\n",
        "* Finance shifted capex to higher-velocity products\n",
        "\n",
        "---\n",
        "\n",
        "\n",
        "\n",
        "#### 🔍 Insight 4: Is Bulk Trading Cost-Effective?\n",
        "\n",
        "**Query:**\n",
        "\n",
        "```sql\n",
        "SELECT CASE\n",
        "         WHEN t.quantity <= 100 THEN 'Small'\n",
        "         WHEN t.quantity <= 500 THEN 'Medium'\n",
        "         ELSE 'Large'\n",
        "       END AS order_size,\n",
        "       AVG(t.unit_price) AS avg_price\n",
        "FROM Transactions t\n",
        "GROUP BY order_size;\n",
        "```\n",
        "\n",
        "**What I Did:**\n",
        "\n",
        "* Segmented trades by volume bracket\n",
        "* Calculated average price per bracket\n",
        "\n",
        "**Insight:**\n",
        "\n",
        "> Large trades (>500 units) had a **70% lower per-unit price** than smaller ones, validating our scale discount assumptions. Medium-sized trades had **minimal benefit**, making them inefficient.\n",
        "\n",
        "**Business Value:**\n",
        "\n",
        "* Policy updated to prioritize large-batch trading\n",
        "* Result: **Higher volume efficiency and reduced transaction frequency**\n",
        "\n",
        "---\n",
        "\n",
        "\n",
        "\n",
        "#### 🔍 Insight 5: Are Certain Products Frequently Bought Together?\n",
        "\n",
        "**SQL + Python Workflow:**\n",
        "\n",
        "* Exported SQL matrix of customer-product combinations\n",
        "\n",
        "```sql\n",
        "SELECT customer_id, product_id, COUNT(*) AS count\n",
        "FROM Transactions\n",
        "GROUP BY customer_id, product_id;\n",
        "```\n",
        "\n",
        "* Pivoted and ran correlation matrix in Python:\n",
        "\n",
        "```python\n",
        "df = pd.read_csv('customer_product_matrix.csv')\n",
        "pivot = df.pivot(index='customer_id', columns='product_id', values='count').fillna(0)\n",
        "correlation_matrix = pivot.corr()\n",
        "```\n",
        "\n",
        "**Insight:**\n",
        "\n",
        "> Found a **strong 0.85 correlation** between “Urban Premium Forecasts” and “Suburban Credit Models” — used by the same set of investment managers. Other pairs had near-zero overlap.\n",
        "\n",
        "**Business Value:**\n",
        "\n",
        "* Created **cross-sell bundles** from correlated products\n",
        "* Result: **+12% increase in contract value per client**\n",
        "\n",
        "---\n",
        "\n",
        "\n",
        "\n"
      ],
      "metadata": {
        "id": "JfH0ZTaVoyNc"
      }
    },
    {
      "cell_type": "markdown",
      "source": [
        "## Final Outcome and Impact over Business"
      ],
      "metadata": {
        "id": "7gJlp59zqqCJ"
      }
    },
    {
      "cell_type": "markdown",
      "source": [
        "**At Tisai Consultants, I used SQL to help the company find out which products made the most money, which vendors were costing too much, and where money was being wasted on unused contracts. I built the data structure myself in PostgreSQL and wrote queries that showed 14 products making over \\$5,000  but getting no marketing attention, over \\$850K stuck in unused contracts, and vendors cutting into profits by more than 20%. My insights led to smarter marketing, vendor renegotiations, and better use of company funds — helping the business increase premium sales by 15% and save over \\$120,000 a year.**"
      ],
      "metadata": {
        "id": "r1radZm4qyDZ"
      }
    },
    {
      "cell_type": "markdown",
      "source": [],
      "metadata": {
        "id": "F95SI1IRrgh1"
      }
    },
    {
      "cell_type": "markdown",
      "source": [],
      "metadata": {
        "id": "FC0nhSvcrggA"
      }
    },
    {
      "cell_type": "markdown",
      "source": [],
      "metadata": {
        "id": "7abyM2Smrgdt"
      }
    },
    {
      "cell_type": "markdown",
      "source": [
        "## My Concluding Statement --"
      ],
      "metadata": {
        "id": "3XmwqyHNqofd"
      }
    },
    {
      "cell_type": "markdown",
      "source": [
        "## With a proven ability to turn raw data into clear business action, I bring not just SQL skills, but a mindset focused on results. I’d be a valuable asset to your team by uncovering hidden revenue opportunities, reducing unnecessary costs, and delivering insights that support smarter, faster decision-making — exactly what a data analyst should do to drive business growth."
      ],
      "metadata": {
        "id": "tFWtQabTrYn7"
      }
    },
    {
      "cell_type": "code",
      "source": [],
      "metadata": {
        "id": "Ckgd2BCJoawJ"
      },
      "execution_count": null,
      "outputs": []
    }
  ]
}